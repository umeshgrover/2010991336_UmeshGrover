{
  "nbformat": 4,
  "nbformat_minor": 0,
  "metadata": {
    "colab": {
      "provenance": []
    },
    "kernelspec": {
      "name": "python3",
      "display_name": "Python 3"
    },
    "language_info": {
      "name": "python"
    }
  },
  "cells": [
    {
      "cell_type": "markdown",
      "source": [
        "**Q1. What is Statistics?**\n",
        "\n",
        "\n",
        "it is the science of collecting, analyzing and organising data"
      ],
      "metadata": {
        "id": "kVlCzOWUyXYE"
      }
    },
    {
      "cell_type": "markdown",
      "source": [
        "**Q2. Define the different types of statistics and give an example of when each type might be used.**\n",
        "\n",
        "it's basically of two types:\n",
        "\n",
        "1) Descriptive{consists of organising and summarizing data}\n",
        "    \n",
        "    Example: age of students of a certain class in your college\n",
        "\n",
        "2) Inferential{using the data measured to form solutions}\n",
        "    \n",
        "    Example: checking the similarity of the class data with the rest of the college\n"
      ],
      "metadata": {
        "id": "gf8V3SAQyrt9"
      }
    },
    {
      "cell_type": "markdown",
      "source": [
        "**Q3. What are the different types of data and how do they differ from each other? Provide an example of each type of data.**\n",
        "\n",
        "Data is devided into two cataegories which itself devides into two further cataegories:\n",
        "\n",
        "1) Quantitative(Numerical values):\n",
        "\n",
        "  a)Discrete(whole numbers within a speciffic range):\n",
        "\n",
        "      Example: No. of bank accounts of a person\n",
        "  \n",
        "  b)Continous(it can take any numeric value):\n",
        "\n",
        "      Example: measure of weight, height etc.\n",
        "\n",
        "2) Qualitative(cataegorical values):\n",
        "  \n",
        "  a)Nominal(unranked values):\n",
        "      \n",
        "      Example: Gender, Maritial status etc.\n",
        "  \n",
        "  b)Ordinal(Ranked values):\n",
        "\n",
        "      Example: customer feedback"
      ],
      "metadata": {
        "id": "O9DM00x204Rn"
      }
    },
    {
      "cell_type": "markdown",
      "source": [
        "**Q4. Categorise the following datasets with respect to quantitative and qualitative data types: **\n",
        "\n",
        "(i) Grading in exam: A+, A, B+, B, C+, C, D, E : {Qualitative}\n",
        "\n",
        "(ii) Colour of mangoes: yellow, green, orange, red : {Qualitative}\n",
        "\n",
        "(iii) Height data of a class: [178.9, 179, 179.5, 176, 177.2, 178.3, 175.8,...] : {Quantitative}\n",
        "\n",
        "(iv) Number of mangoes exported by a farm: [500, 600, 478, 672, ...] : {Quantitative}"
      ],
      "metadata": {
        "id": "iR6X99OR3228"
      }
    },
    {
      "cell_type": "markdown",
      "source": [
        "**Q5. Explain the concept of levels of measurement and give an example of a variable for each level.**\n",
        "\n",
        "it represents the amount of info that can be inferred from given data which is basically devided into 4 types:\n",
        "\n",
        "1) Nominal scale {it is cataegorical and order doesn't matter in this}\n",
        "    \n",
        "    Example : color, gender etc.\n",
        "  \n",
        "2) Ordinal scale{it gives importance to rank and order is also under consideration}\n",
        "\n",
        "    Example : Grade system of a class\n",
        "\n",
        "3) Interval scale{it gives importance to order, can calculate the difference between the values , no True '0' starting point is there }\n",
        "\n",
        "    Example : values of temperature in an array\n",
        "\n",
        "4) Ratio scale{here, order matters,  difference between values can be calculated along with the ratio. it has a True \"0\" starting point}\n",
        "\n",
        "    Example : Marks of students in a class test"
      ],
      "metadata": {
        "id": "ONEyC1u-4ep6"
      }
    },
    {
      "cell_type": "markdown",
      "source": [
        "**Q6. Why is it important to understand the level of measurement when analyzing data? Provide an example to illustrate your answer.**\n",
        "\n",
        "The level of measurement is important to understand when analyzing data because it determines the type of statistical analysis that can be performed. For example, you cannot calculate the mean of a nominal variable, because nominal variables do not have a numerical scale.\n",
        "\n",
        "  Example  : let's say you have a dataset of student grades. The variable \"grade\" is ordinal because it ranks students in order from highest to lowest.\n",
        "  You could calculate the median grade, but you could not calculate the mean grade. This is because the mean grade would not be meaningful, since it would not take into account the difference between the grades."
      ],
      "metadata": {
        "id": "MXYx0Ezh73KF"
      }
    },
    {
      "cell_type": "markdown",
      "source": [
        "**Q7. How nominal data type is different from ordinal data type.**\n",
        "\n",
        "the reasons are :\n",
        "\n",
        "1) Nominal considers data to be unranked which is best suited for cataegories without any comparison such as : gender, caste, hobbies etc.\n",
        "\n",
        "2)Ordinal considers data with Ranking system and a certain order such as grades, post etc. which makes it convinient for such cataegories"
      ],
      "metadata": {
        "id": "d1b-MaEc8nO8"
      }
    },
    {
      "cell_type": "markdown",
      "source": [
        "**Q8. Which type of plot can be used to display data in terms of range?**\n",
        "\n",
        "The box plot displays data in terms of range and where the outliers are seperated and the data lies within the quartiles of the plot presenting them in the range of data"
      ],
      "metadata": {
        "id": "G_JIbyEs95LP"
      }
    },
    {
      "cell_type": "markdown",
      "source": [
        "**Q9. Describe the difference between descriptive and inferential statistics. Give an example of each type of statistics and explain how they are used.**\n",
        "\n",
        "The main difference between descriptive and inferential statistics is that descriptive statistics only describe the data, while inferential statistics make inferences about the population from which the data was collected.\n",
        "\n",
        "Examples :\n",
        "\n",
        "1)Descriptive statistics: A company might use descriptive statistics to summarize the results of a customer satisfaction survey. They might report the average satisfaction score, the most common complaint, and the range of satisfaction scores.\n",
        "\n",
        "\n",
        "2)Inferential statistics: A researcher might use inferential statistics to test the hypothesis that there is a difference in the average height of men and women. They would collect data on the heights of a sample of men and women and then use statistical tests to determine whether there is a statistically significant difference between the two groups."
      ],
      "metadata": {
        "id": "WGiFWfdA-znJ"
      }
    },
    {
      "cell_type": "markdown",
      "source": [
        "** Q10. What are some common measures of central tendency and variability used in statistics? Explain how each measure can be used to describe a dataset. **\n",
        "\n",
        "1)Measures of central tendency\n",
        "\n",
        "    Mean: The average of the data. It is calculated by adding all the values in the data set and dividing by the number of values.\n",
        "\n",
        "    Median: The middle value of the data when it is arranged in order from least to greatest.\n",
        "\n",
        "    Mode: The most frequent value in the data set.\n",
        "2)Measures of variability\n",
        "\n",
        "    variance : represents the spread of the data in the graph\n",
        "\n",
        "    Interquartile range (IQR): The difference between the third quartile (Q3) and the first quartile (Q1).\n",
        "\n",
        "    Standard deviation: A measure of how spread out the data is around the mean. It is calculated by taking the square root of the variance."
      ],
      "metadata": {
        "id": "nZ1QvCue_i83"
      }
    },
    {
      "cell_type": "code",
      "execution_count": null,
      "metadata": {
        "id": "QLn9Xj3dyEGT"
      },
      "outputs": [],
      "source": [
        "|"
      ]
    }
  ]
}