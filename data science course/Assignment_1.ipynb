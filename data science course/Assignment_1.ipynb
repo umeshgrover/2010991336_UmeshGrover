{
  "nbformat": 4,
  "nbformat_minor": 0,
  "metadata": {
    "colab": {
      "provenance": []
    },
    "kernelspec": {
      "name": "python3",
      "display_name": "Python 3"
    },
    "language_info": {
      "name": "python"
    }
  },
  "cells": [
    {
      "cell_type": "code",
      "execution_count": null,
      "metadata": {
        "id": "qP-C4vXq_YaL"
      },
      "outputs": [],
      "source": []
    },
    {
      "cell_type": "markdown",
      "source": [
        "Q1. Create one variable containing following type of data:\n",
        "(i) string\n",
        "(ii) list\n",
        "(iii) float\n",
        "(iv) tuple"
      ],
      "metadata": {
        "id": "GULo0ibD_d4P"
      }
    },
    {
      "cell_type": "code",
      "source": [
        "s = 'hello'\n",
        "li = [1,2,3,4,5]\n",
        "f = 2.345\n",
        "tup = (1,2,3,4)"
      ],
      "metadata": {
        "id": "_ev9r5nT_e1A"
      },
      "execution_count": 1,
      "outputs": []
    },
    {
      "cell_type": "markdown",
      "source": [
        "Q2. Given are some following variables containing data:\n",
        "(i) var1 = ‘ ‘\n",
        "(ii) var2 = ‘[ DS , ML , Python]’\n",
        "(iii) var3 = [ ‘DS’ , ’ML’ , ‘Python’ ]\n",
        "(iv) var4 = 1.\n",
        "\n",
        "What will be the data type of the above given variable."
      ],
      "metadata": {
        "id": "5nuOOEBaA9gx"
      }
    },
    {
      "cell_type": "code",
      "source": [
        "var1 = ''\n",
        "var2 = '[DS,ML,Python]'\n",
        "var3 = ['DS','ML','Python']\n",
        "var4 = 1\n",
        "\n",
        "print(type(var1))\n",
        "print(type(var2))\n",
        "print(type(var3))\n",
        "print(type(var4))"
      ],
      "metadata": {
        "colab": {
          "base_uri": "https://localhost:8080/"
        },
        "id": "qGTBZBS4_pFT",
        "outputId": "2d84cb86-1c39-4551-b72c-ee0244ea3fc2"
      },
      "execution_count": 3,
      "outputs": [
        {
          "output_type": "stream",
          "name": "stdout",
          "text": [
            "<class 'str'>\n",
            "<class 'str'>\n",
            "<class 'list'>\n",
            "<class 'int'>\n"
          ]
        }
      ]
    },
    {
      "cell_type": "markdown",
      "source": [
        "Q3. Explain the use of the following operators using an example:\n",
        "\n",
        "(i) /\n",
        "\n",
        "(ii) %\n",
        "\n",
        "(iii) //\n",
        "\n",
        "(iv) **"
      ],
      "metadata": {
        "id": "O0mSJMoaBpVr"
      }
    },
    {
      "cell_type": "code",
      "source": [
        "#'/' (divison) : use to divide two values gives answer in float data type\n",
        "a = 10\n",
        "b = 5\n",
        "print(a/b)"
      ],
      "metadata": {
        "colab": {
          "base_uri": "https://localhost:8080/"
        },
        "id": "ZNHQej6mBjVr",
        "outputId": "7f25050f-2480-49e1-f671-a4efa393c8d8"
      },
      "execution_count": 4,
      "outputs": [
        {
          "output_type": "stream",
          "name": "stdout",
          "text": [
            "2.0\n"
          ]
        }
      ]
    },
    {
      "cell_type": "code",
      "source": [
        "#'%' (modulus) : used to get the remainder value after dividing two numbers\n",
        "a = 6\n",
        "b = 4\n",
        "print(a%b)"
      ],
      "metadata": {
        "colab": {
          "base_uri": "https://localhost:8080/"
        },
        "id": "hTSFsGCWCRoq",
        "outputId": "baf96cc9-0ae7-4fab-c188-a9384a396c53"
      },
      "execution_count": 5,
      "outputs": [
        {
          "output_type": "stream",
          "name": "stdout",
          "text": [
            "2\n"
          ]
        }
      ]
    },
    {
      "cell_type": "code",
      "source": [
        "#'//' (floor division) : used to give the value as an integer after dividing two numbers\n",
        "a = 199\n",
        "b = 34\n",
        "print(a//b)"
      ],
      "metadata": {
        "colab": {
          "base_uri": "https://localhost:8080/"
        },
        "id": "w2d5ckU7CksJ",
        "outputId": "358ffd8b-7de7-4cfa-a3c7-a62ff40b5cb3"
      },
      "execution_count": 6,
      "outputs": [
        {
          "output_type": "stream",
          "name": "stdout",
          "text": [
            "5\n"
          ]
        }
      ]
    },
    {
      "cell_type": "code",
      "source": [
        "#'**' (Exponentiation) : used to calcuate the power of a number\n",
        "a = 4\n",
        "b = 5\n",
        "print(a**b)"
      ],
      "metadata": {
        "colab": {
          "base_uri": "https://localhost:8080/"
        },
        "id": "rW09WTuPCzAu",
        "outputId": "7929f2e7-c406-40b9-893c-10b02697ecc8"
      },
      "execution_count": 7,
      "outputs": [
        {
          "output_type": "stream",
          "name": "stdout",
          "text": [
            "1024\n"
          ]
        }
      ]
    },
    {
      "cell_type": "markdown",
      "source": [],
      "metadata": {
        "id": "iN8LwnIkDNAS"
      }
    },
    {
      "cell_type": "markdown",
      "source": [
        "Q4. Create a list of length 10 of your choice containing multiple types of data. Using for loop print the\n",
        "element and its data type."
      ],
      "metadata": {
        "id": "5LXDRT9oDNDq"
      }
    },
    {
      "cell_type": "code",
      "source": [
        "li = [1,2,3,4,2.4,2+4j,\"hello\",'hi',True,8.46]\n",
        "for i in li:\n",
        "  print(i,end= \" \")\n",
        "  print(type(i))"
      ],
      "metadata": {
        "colab": {
          "base_uri": "https://localhost:8080/"
        },
        "id": "sP9kQ40tDML2",
        "outputId": "e0058f1b-983a-4697-a545-21a8859ad1d8"
      },
      "execution_count": 8,
      "outputs": [
        {
          "output_type": "stream",
          "name": "stdout",
          "text": [
            "1 <class 'int'>\n",
            "2 <class 'int'>\n",
            "3 <class 'int'>\n",
            "4 <class 'int'>\n",
            "2.4 <class 'float'>\n",
            "(2+4j) <class 'complex'>\n",
            "hello <class 'str'>\n",
            "hi <class 'str'>\n",
            "True <class 'bool'>\n",
            "8.46 <class 'float'>\n"
          ]
        }
      ]
    },
    {
      "cell_type": "markdown",
      "source": [
        "Q5. Using a while loop, verify if the number A is purely divisible by number B and if so then how many\n",
        "times it can be divisible."
      ],
      "metadata": {
        "id": "6A7yyCmADym7"
      }
    },
    {
      "cell_type": "code",
      "source": [
        "a = 64\n",
        "b = 2\n",
        "count = 0\n",
        "if(a%b == 0):\n",
        "  print(\"yes it is purely divisible...\")\n",
        "  while(a%b == 0):\n",
        "    a = a/b\n",
        "    count+=1\n",
        "  print(\"count = \", count)\n",
        "else:\n",
        "  print(\"No, this number is not purely divisible \")"
      ],
      "metadata": {
        "colab": {
          "base_uri": "https://localhost:8080/"
        },
        "id": "0Qw1Orj3DK-2",
        "outputId": "444291d9-9a88-4481-9205-8b8f58720b34"
      },
      "execution_count": 12,
      "outputs": [
        {
          "output_type": "stream",
          "name": "stdout",
          "text": [
            "yes it is purely divisible...\n",
            "count =  6\n"
          ]
        }
      ]
    },
    {
      "cell_type": "markdown",
      "source": [
        "Q6. Create a list containing 25 int type data. Using for loop and if-else condition print if the element is\n",
        "divisible by 3 or not."
      ],
      "metadata": {
        "id": "q_REIgLyFeVQ"
      }
    },
    {
      "cell_type": "code",
      "source": [
        "li = [1,34,54,312,524,2334,35454,2143,54,545,35,5,43,43124,41,43314,65,15,48,56,486,4376,4368,80,189,879]\n",
        "for i in li:\n",
        "  if(i%3 == 0):\n",
        "    print(i , end= \" \")\n",
        "  else:\n",
        "    continue"
      ],
      "metadata": {
        "colab": {
          "base_uri": "https://localhost:8080/"
        },
        "id": "5a2UqSl5FFv5",
        "outputId": "5a65ca02-a7d2-4d92-be29-5501dc8d8084"
      },
      "execution_count": 14,
      "outputs": [
        {
          "output_type": "stream",
          "name": "stdout",
          "text": [
            "54 312 2334 35454 54 43314 15 48 486 4368 189 879 "
          ]
        }
      ]
    },
    {
      "cell_type": "markdown",
      "source": [
        "Q7. What do you understand about mutable and immutable data types? Give examples for both showing\n",
        "this property."
      ],
      "metadata": {
        "id": "1buDCLUUGLb3"
      }
    },
    {
      "cell_type": "markdown",
      "source": [
        "mutable data types: these datatypes allow manipulation actions such as append , remove , delete etc.\n",
        "example of these data types is : lists , set , dictionary etc\n",
        "\n",
        "immutable data types: these datatypes doesn't allow manipulation actions such as append , remove , delete etc. and once created can never be changed\n",
        "example of these data types is : floadd , tuple , int , string etc\n"
      ],
      "metadata": {
        "id": "NoIzI7h_GRvc"
      }
    },
    {
      "cell_type": "code",
      "source": [],
      "metadata": {
        "id": "kS455RONGHVY"
      },
      "execution_count": null,
      "outputs": []
    }
  ]
}