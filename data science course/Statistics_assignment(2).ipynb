{
  "nbformat": 4,
  "nbformat_minor": 0,
  "metadata": {
    "colab": {
      "provenance": []
    },
    "kernelspec": {
      "name": "python3",
      "display_name": "Python 3"
    },
    "language_info": {
      "name": "python"
    }
  },
  "cells": [
    {
      "cell_type": "markdown",
      "source": [
        "**Q1. What are the three measures of central tendency?**\n",
        "\n",
        "mean, median and mode are the measures of the central tendency"
      ],
      "metadata": {
        "id": "W5elmG3pj5C-"
      }
    },
    {
      "cell_type": "markdown",
      "source": [
        "**Q2. What is the difference between the mean, median, and mode? How are they used to measure the central tendency of a dataset?**\n",
        "\n",
        "Difference is:\n",
        "\n",
        "The mean is the most commonly used measure of central tendency, but it can be sensitive to outliers, which are extreme values that skew the mean. The median is not affected by outliers, so it is a more robust measure of central tendency. The mode is not affected by the order of the data, so it can be useful for data sets that are not evenly distributed.\n",
        "\n",
        "The mean is the average of all the values in a data set.\n",
        "\n",
        "The median is the middle value in a data set when it is arranged in order from least to greatest.\n",
        "\n",
        "The mode is the most frequently occurring value in a data set."
      ],
      "metadata": {
        "id": "bHNFZKKbkXFt"
      }
    },
    {
      "cell_type": "markdown",
      "source": [
        "**Q3. Measure the three measures of central tendency for the given height data:\n",
        "[178,177,176,177,178.2,178,175,179,180,175,178.9,176.2,177,172.5,178,176.5]**"
      ],
      "metadata": {
        "id": "Szw7OCgymqWy"
      }
    },
    {
      "cell_type": "code",
      "execution_count": 4,
      "metadata": {
        "colab": {
          "base_uri": "https://localhost:8080/"
        },
        "id": "dVb3X_QBjure",
        "outputId": "71dcc904-4c9a-4a39-8824-b7f5c36c232b"
      },
      "outputs": [
        {
          "output_type": "stream",
          "name": "stdout",
          "text": [
            "mean is :  177.01875\n",
            "median is :  177.0\n",
            "mode is :  ModeResult(mode=array([177.]), count=array([3]))\n"
          ]
        },
        {
          "output_type": "stream",
          "name": "stderr",
          "text": [
            "<ipython-input-4-df98811095f4>:6: FutureWarning: Unlike other reduction functions (e.g. `skew`, `kurtosis`), the default behavior of `mode` typically preserves the axis it acts along. In SciPy 1.11.0, this behavior will change: the default value of `keepdims` will become False, the `axis` over which the statistic is taken will be eliminated, and the value None will no longer be accepted. Set `keepdims` to True or False to avoid this warning.\n",
            "  print(\"mode is : \", stats.mode(data))\n"
          ]
        }
      ],
      "source": [
        "import numpy as np\n",
        "from scipy import stats\n",
        "data = [178,177,176,177,178.2,178,175,179,180,175,178.9,176.2,177,172.5,178,176.5]\n",
        "print(\"mean is : \" , np.mean(data))\n",
        "print(\"median is : \" , np.median(data))\n",
        "print(\"mode is : \", stats.mode(data))"
      ]
    },
    {
      "cell_type": "markdown",
      "source": [
        "**Q5. How are measures of dispersion such as range, variance, and standard deviation used to describe the spread of a dataset? Provide an example.**\n",
        "\n",
        "range: The range is the simplest measure of dispersion. It is the difference between the largest and smallest values in the data set.\n",
        "\n",
        "variance : it is the spread of data along the graph\n",
        "\n",
        "standard variance : it shows the spread of data arround the mean value\n",
        "\n",
        "    Example :\n",
        "      Data set: 1, 2, 3, 4, 5, 6, 7\n",
        "\n",
        "    Range: 6 (the largest value, 7, minus the smallest value, 1)\n",
        "    Variance: 2.25 (the average squared deviation of the data points from the mean, which is 4)\n",
        "    Standard deviation: 1.5 (the square root of the variance)"
      ],
      "metadata": {
        "id": "AaNDUadtoHKH"
      }
    },
    {
      "cell_type": "markdown",
      "source": [
        "**Q6. What is a Venn diagram?**\n",
        "\n",
        "a diagram representing mathematical or logical sets pictorially as circles or closed curves within an enclosing rectangle"
      ],
      "metadata": {
        "id": "gzpUTNdTu-RJ"
      }
    },
    {
      "cell_type": "markdown",
      "source": [
        "**Q7. For the two given sets A = (2,3,4,5,6,7) & B = (0,2,6,8,10). Find:**\n",
        "(i) A B\n",
        "(ii) A ⋃ B"
      ],
      "metadata": {
        "id": "y0AszWA2vpOh"
      }
    },
    {
      "cell_type": "code",
      "source": [
        "A = {2,3,4,5,6,7}\n",
        "B = {0,2,6,8,10}\n",
        "print(A.union(B))\n",
        "print(A.intersection(B))"
      ],
      "metadata": {
        "colab": {
          "base_uri": "https://localhost:8080/"
        },
        "id": "VcYcP9LfnPCe",
        "outputId": "31609a47-daf4-44e6-c5a1-6de088c25d46"
      },
      "execution_count": 9,
      "outputs": [
        {
          "output_type": "stream",
          "name": "stdout",
          "text": [
            "{0, 2, 3, 4, 5, 6, 7, 8, 10}\n",
            "{2, 6}\n"
          ]
        }
      ]
    },
    {
      "cell_type": "markdown",
      "source": [
        "**Q8. What do you understand about skewness in data?**\n",
        "\n",
        "Skewness is a measure of the asymmetry of a distribution. A distribution is said to be skewed if it is not symmetrical around its mean.\n",
        "\n",
        "its of three types :\n",
        "\n",
        "    1) Symmetrical : when the tail of distribution lies equal on both the sides of data\n",
        "\n",
        "    2) Positive : when the tail is more extended towards the right side of distribution\n",
        "\n",
        "    3) Negative : when the tail is more extended towards the left side of distribution"
      ],
      "metadata": {
        "id": "1NSbVVJVxlJ4"
      }
    },
    {
      "cell_type": "markdown",
      "source": [
        "**Q9. If a data is right skewed then what will be the position of median with respect to mean?**\n",
        "\n",
        "the mean value would be greater than the value of the median but, if we see in terms of the peak of the curve the median will be the closest central tendency to it as compared to the mean"
      ],
      "metadata": {
        "id": "pk7LmCjWzb-h"
      }
    },
    {
      "cell_type": "markdown",
      "source": [
        "**Q10. Explain the difference between covariance and correlation. How are these measures used in statistical analysis?**\n",
        "\n",
        "Covariance:\n",
        "\n",
        "    Measures how two variables change together.\n",
        "    Positive means they generally increase or decrease together; negative means one increases as the other decreases.\n",
        "    Used to understand relationships between variables in their original units.\n",
        "\n",
        "Correlation:\n",
        "\n",
        "    Standardized measure of the strength and direction of a linear relationship.\n",
        "    Ranges from -1 to 1; 1 indicates a perfect positive linear relationship, -1 indicates a perfect negative linear relationship, 0 means no linear relationship.\n"
      ],
      "metadata": {
        "id": "J68DWqYT1t9a"
      }
    },
    {
      "cell_type": "markdown",
      "source": [
        "**Q11. What is the formula for calculating the sample mean? Provide an example calculation for a dataset.**"
      ],
      "metadata": {
        "id": "W9FJcg833mB6"
      }
    },
    {
      "cell_type": "code",
      "source": [
        "# to calculate sample mean the formuale is :\n",
        "#     mean = sum(values) / n\n",
        "\n",
        "# example\n",
        "\n",
        "data  = [1,2,3,4,5,6,7,3,2,1]\n",
        "print(np.mean(data))\n",
        "\n"
      ],
      "metadata": {
        "colab": {
          "base_uri": "https://localhost:8080/"
        },
        "id": "HJov1rpdxDxb",
        "outputId": "69e788f5-9648-443c-866c-8d77fc1f094a"
      },
      "execution_count": 10,
      "outputs": [
        {
          "output_type": "stream",
          "name": "stdout",
          "text": [
            "3.4\n"
          ]
        }
      ]
    },
    {
      "cell_type": "markdown",
      "source": [
        "**Q12. For a normal distribution data what is the relationship between its measure of central tendency?**\n",
        "\n",
        "The mean, median, and mode are all equal and located at the center of the distribution."
      ],
      "metadata": {
        "id": "SzdrHX3Z5on0"
      }
    },
    {
      "cell_type": "markdown",
      "source": [
        "**Q13. How is covariance different from correlation?**\n",
        "\n",
        "Covariance measures the degree to which two variables change together, while correlation standardizes this measure, making it a unitless value that ranges from -1 to 1 and indicates both the strength and direction of the linear relationship"
      ],
      "metadata": {
        "id": "WocS_4cq5ygQ"
      }
    },
    {
      "cell_type": "markdown",
      "source": [
        "**Q14. How do outliers affect measures of central tendency and dispersion? Provide an example.**\n",
        "\n",
        "\n",
        "Outliers can significantly affect measures of central tendency (mean, median, mode) by pulling them in the direction of the outlier. They can also increase the dispersion (spread) of the data"
      ],
      "metadata": {
        "id": "0kFpVs-G58LE"
      }
    },
    {
      "cell_type": "code",
      "source": [
        "#example\n",
        "\n",
        "data = [178,177,176,177,178.2,178,175,179,180,175,178.9,176.2,177,172.5,178,176.5]\n",
        "print(\"mean is : \" , np.mean(data))\n",
        "print(\"median is : \" , np.median(data))\n",
        "print(\"mode is : \", stats.mode(data))\n",
        "print(\"with outliers : \")\n",
        "print()\n",
        "print()\n",
        "data = [178,177,176,177,178.2,178,175,179,180,175,178.9,176.2,177,172.5,178,176.5,2000 ,1000]\n",
        "print(\"mean is : \" , np.mean(data))\n",
        "print(\"median is : \" , np.median(data))\n",
        "print(\"mode is : \", stats.mode(data))"
      ],
      "metadata": {
        "colab": {
          "base_uri": "https://localhost:8080/"
        },
        "id": "GOdIy4_65jHm",
        "outputId": "93051596-6bb3-4537-eee0-431522021d1f"
      },
      "execution_count": 11,
      "outputs": [
        {
          "output_type": "stream",
          "name": "stdout",
          "text": [
            "mean is :  177.01875\n",
            "median is :  177.0\n",
            "mode is :  ModeResult(mode=array([177.]), count=array([3]))\n",
            "with outliers : \n",
            "\n",
            "\n",
            "mean is :  324.01666666666665\n",
            "median is :  177.5\n",
            "mode is :  ModeResult(mode=array([177.]), count=array([3]))\n"
          ]
        },
        {
          "output_type": "stream",
          "name": "stderr",
          "text": [
            "<ipython-input-11-7eca844879f0>:6: FutureWarning: Unlike other reduction functions (e.g. `skew`, `kurtosis`), the default behavior of `mode` typically preserves the axis it acts along. In SciPy 1.11.0, this behavior will change: the default value of `keepdims` will become False, the `axis` over which the statistic is taken will be eliminated, and the value None will no longer be accepted. Set `keepdims` to True or False to avoid this warning.\n",
            "  print(\"mode is : \", stats.mode(data))\n",
            "<ipython-input-11-7eca844879f0>:13: FutureWarning: Unlike other reduction functions (e.g. `skew`, `kurtosis`), the default behavior of `mode` typically preserves the axis it acts along. In SciPy 1.11.0, this behavior will change: the default value of `keepdims` will become False, the `axis` over which the statistic is taken will be eliminated, and the value None will no longer be accepted. Set `keepdims` to True or False to avoid this warning.\n",
            "  print(\"mode is : \", stats.mode(data))\n"
          ]
        }
      ]
    }
  ]
}