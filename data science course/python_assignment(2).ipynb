{
 "cells": [
  {
   "cell_type": "markdown",
   "id": "2510bbca-d2b0-49bf-95a4-68af665a3f8c",
   "metadata": {},
   "source": [
    "Q1. How do you comment code in Python? What are the different types of comments?"
   ]
  },
  {
   "cell_type": "markdown",
   "id": "2032f00b-40f0-4fdb-a570-d77289abc4ea",
   "metadata": {},
   "source": [
    "In python we have basically two types of line comments\n",
    "these are : \n",
    "1) single line (#) : used to make a single line commented.\n",
    "2) multiline (''' or \"\"\") : used to comment multiple lines of code "
   ]
  },
  {
   "cell_type": "markdown",
   "id": "e3bf4f40-70b7-4742-a5c7-142fe344c558",
   "metadata": {},
   "source": [
    "Q2. What are variables in Python? How do you declare and assign values to variables?"
   ]
  },
  {
   "cell_type": "markdown",
   "id": "e514bbce-2c5d-4b3a-aeaf-616d53f35345",
   "metadata": {},
   "source": [
    "Variables in python are reponsible to store data values, in python variables are declared using '='(assignment) operator, \n",
    "\n",
    "for eg: \n",
    "\n",
    "        a = 10\n",
    "\n",
    "In python there is no need to write the datatype before the variable name because the compiler itself recognize the data \n",
    "and it's type stored inside the variable "
   ]
  },
  {
   "cell_type": "markdown",
   "id": "179d5337-6f3b-4fbc-af0a-a75978217fdc",
   "metadata": {},
   "source": [
    "Q3. How do you convert one data type to another in Python?"
   ]
  },
  {
   "cell_type": "markdown",
   "id": "6aeb8745-0108-44e7-b58a-a4d7b9bc7f17",
   "metadata": {},
   "source": [
    "To do so, we need to write the variable in the paranthesis and datatype before the variable. but we cannot convert strings into any other datatype unless or until the characters in stored in the strings are all numerical based \n",
    "example of conversion is as follows: \n",
    "\n",
    "        a = 479 #integer value\n",
    "        b = str(a) #string value"
   ]
  },
  {
   "cell_type": "markdown",
   "id": "082e739e-c389-4278-aa28-a3216d47841b",
   "metadata": {},
   "source": [
    "Q4. How do you write and execute a Python script from the command line?"
   ]
  },
  {
   "cell_type": "markdown",
   "id": "e5f9665e-958b-47c1-8d95-51d80e94c448",
   "metadata": {},
   "source": [
    "To do the same please follow the following steps:\n",
    "\n",
    "open commandline interface -> go to the directory of the file / write the file path -> run the command {python \"filen_ame\".py} "
   ]
  },
  {
   "cell_type": "markdown",
   "id": "e8f81d7a-1a7c-4144-bb7f-69a725252548",
   "metadata": {},
   "source": [
    "Q5. Given a list my_list = [1, 2, 3, 4, 5], write the code to slice the list and obtain the sub-list [2, 3]."
   ]
  },
  {
   "cell_type": "code",
   "execution_count": 2,
   "id": "ec8a68cc-5aef-45d1-907b-fa81432c542c",
   "metadata": {},
   "outputs": [
    {
     "name": "stdout",
     "output_type": "stream",
     "text": [
      "[2, 3]\n"
     ]
    }
   ],
   "source": [
    "my_list = [1,2,3,4,5]\n",
    "sub_list = my_list[1:3]\n",
    "print(sub_list)"
   ]
  },
  {
   "cell_type": "markdown",
   "id": "7e1837ad-9398-4a4a-ac4f-1a331c3c9653",
   "metadata": {},
   "source": [
    "Q6. What is a complex number in mathematics, and how is it represented in Python?"
   ]
  },
  {
   "cell_type": "markdown",
   "id": "4c072ebd-f2b6-4493-99e9-b743fba95d30",
   "metadata": {},
   "source": [
    "In mathematics, complex numbers are represented by the combination of real and the imaginary part where the imaginary \n",
    "part is combined with the letter i(iota) that's the squareroot of -1,\n",
    "for eg: \n",
    "\n",
    "            3 + 2i   \n",
    "thus same in python the complex numbers are \n",
    "consist of real and the imaginary part where the imaginary part can be represented with any letter \n",
    "for eg: \n",
    "\n",
    "            number  =  5 + 4l"
   ]
  },
  {
   "cell_type": "markdown",
   "id": "bd3d5d91-a475-4931-92ea-ada8a53e46d2",
   "metadata": {},
   "source": [
    "Q7. What is the correct way to declare a variable named age and assign the value 25 to it?"
   ]
  },
  {
   "cell_type": "code",
   "execution_count": 4,
   "id": "dce88fcb-4f3f-4c6c-9239-48efdc6a82da",
   "metadata": {},
   "outputs": [],
   "source": [
    "# here the way to declare and assign value to a variable \n",
    "age = 25 "
   ]
  },
  {
   "cell_type": "markdown",
   "id": "f27a5631-6fc1-48cb-bbc2-ab8380fc2ec2",
   "metadata": {},
   "source": [
    "Q8. Declare a variable named price and assign the value 9.99 to it. What data type does this variable\n",
    "belong to?"
   ]
  },
  {
   "cell_type": "code",
   "execution_count": 5,
   "id": "4d697132-d2bf-4601-b2d6-a7e2c115ef35",
   "metadata": {},
   "outputs": [
    {
     "name": "stdout",
     "output_type": "stream",
     "text": [
      "<class 'float'>\n"
     ]
    }
   ],
   "source": [
    "price = 9.99\n",
    "print(type(price))"
   ]
  },
  {
   "cell_type": "markdown",
   "id": "65abf024-4a8f-4652-ac03-e4d11373627a",
   "metadata": {},
   "source": [
    "Q9. Create a variable named name and assign your full name to it as a string. How would you print the\n",
    "value of this variable?"
   ]
  },
  {
   "cell_type": "code",
   "execution_count": 6,
   "id": "eb7c8ce8-f330-49e4-880c-0cee624a6d33",
   "metadata": {},
   "outputs": [
    {
     "name": "stdout",
     "output_type": "stream",
     "text": [
      "Umesh Grover\n"
     ]
    }
   ],
   "source": [
    "name  = \"Umesh Grover\"\n",
    "print(name)"
   ]
  },
  {
   "cell_type": "markdown",
   "id": "93b8add1-cb05-4c67-97d1-5e839c68ada2",
   "metadata": {},
   "source": [
    "Q10. Given the string \"Hello, World!\", extract the substring \"World\"."
   ]
  },
  {
   "cell_type": "code",
   "execution_count": 9,
   "id": "3f479082-500e-4357-9da3-cb150b45ffce",
   "metadata": {},
   "outputs": [
    {
     "name": "stdout",
     "output_type": "stream",
     "text": [
      "World\n"
     ]
    }
   ],
   "source": [
    "string = \"Hello, World!\"\n",
    "print(string[7:-1])"
   ]
  },
  {
   "cell_type": "markdown",
   "id": "1fcc0287-d0fd-4f62-9878-04f8adf8f88d",
   "metadata": {},
   "source": [
    "Q11. Create a variable named \"is_student\" and assign it a boolean value indicating whether you are\n",
    "currently a student or not."
   ]
  },
  {
   "cell_type": "code",
   "execution_count": 10,
   "id": "312169a5-f5c0-4e03-80e0-13af3409c258",
   "metadata": {},
   "outputs": [
    {
     "name": "stdout",
     "output_type": "stream",
     "text": [
      "Yes\n"
     ]
    }
   ],
   "source": [
    "is_student = True\n",
    "if is_student:\n",
    "    print(\"Yes\")\n",
    "else:\n",
    "    print(\"NO\")"
   ]
  },
  {
   "cell_type": "code",
   "execution_count": null,
   "id": "45481978-4187-4562-a921-67aec185e159",
   "metadata": {},
   "outputs": [],
   "source": []
  }
 ],
 "metadata": {
  "kernelspec": {
   "display_name": "Python 3 (ipykernel)",
   "language": "python",
   "name": "python3"
  },
  "language_info": {
   "codemirror_mode": {
    "name": "ipython",
    "version": 3
   },
   "file_extension": ".py",
   "mimetype": "text/x-python",
   "name": "python",
   "nbconvert_exporter": "python",
   "pygments_lexer": "ipython3",
   "version": "3.10.8"
  }
 },
 "nbformat": 4,
 "nbformat_minor": 5
}
